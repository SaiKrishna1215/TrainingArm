{
 "cells": [
  {
   "cell_type": "markdown",
   "metadata": {},
   "source": [
    "### This code allows the manipulation of myosuite models based on tasks."
   ]
  },
  {
   "cell_type": "code",
   "execution_count": 1,
   "metadata": {},
   "outputs": [
    {
     "name": "stdout",
     "output_type": "stream",
     "text": [
      "MyoSuite:> Registering Myo Envs\n"
     ]
    }
   ],
   "source": [
    "import myosuite\n",
    "import gym\n",
    "import imageio\n",
    "import numpy as np\n",
    "import os\n",
    "import tqdm\n"
   ]
  },
  {
   "cell_type": "code",
   "execution_count": 2,
   "metadata": {},
   "outputs": [],
   "source": [
    "from IPython.display import HTML\n",
    "from base64 import b64encode\n",
    " \n",
    "def show_video(video_path, video_width = 400):\n",
    "   \n",
    "  video_file = open(video_path, \"r+b\").read()\n",
    " \n",
    "  video_url = f\"data:video/mp4;base64,{b64encode(video_file).decode()}\"\n",
    "  return HTML(f\"\"\"\"\"\")"
   ]
  },
  {
   "cell_type": "markdown",
   "metadata": {},
   "source": [
    "### <b>ReachV0</b>"
   ]
  },
  {
   "cell_type": "markdown",
   "metadata": {},
   "source": [
    "### Display the environment in MuJoCo"
   ]
  },
  {
   "cell_type": "code",
   "execution_count": 3,
   "metadata": {},
   "outputs": [
    {
     "name": "stdout",
     "output_type": "stream",
     "text": [
      "\u001b[36m    MyoSuite: A contact-rich simulation suite for musculoskeletal motor control\n",
      "        Vittorio Caggiano, Huawei Wang, Guillaume Durandau, Massimo Sartori, Vikash Kumar\n",
      "        L4DC-2019 | https://sites.google.com/view/myosuite\n",
      "    \u001b[0m\n"
     ]
    },
    {
     "data": {
      "text/plain": [
       "array([-2.2856e-02,  1.1130e-02, -8.2680e-02,  1.0125e-01, -4.9400e-02,\n",
       "        1.6578e-01,  1.1868e-01, -1.9320e-01, -1.9648e-01,  3.8760e-02,\n",
       "        1.6806e-01,  1.7281e-01, -2.5407e-01, -1.0998e-01,  1.4748e+00,\n",
       "        1.2882e+00,  1.0647e-01, -2.7489e-01,  3.3200e-01,  4.1140e-01,\n",
       "       -1.7716e-01, -2.6182e-01,  1.8852e-01,  1.7017e-01,  4.4773e-01,\n",
       "        2.6707e-01,  2.8278e-01, -1.0472e-02,  1.6854e-02,  7.0198e-03,\n",
       "        9.1390e-02, -6.5450e-02,  2.4350e-01,  3.3776e-01,  2.3565e-01,\n",
       "       -1.0184e-01,  6.0707e-04,  3.1420e-02, -2.0000e-01,  0.0000e+00,\n",
       "       -2.0000e-02,  0.0000e+00,  0.0000e+00,  0.0000e+00,  0.0000e+00,\n",
       "        0.0000e+00,  0.0000e+00,  0.0000e+00,  0.0000e+00,  0.0000e+00,\n",
       "        0.0000e+00,  0.0000e+00,  0.0000e+00,  0.0000e+00,  0.0000e+00,\n",
       "        0.0000e+00,  0.0000e+00,  0.0000e+00,  0.0000e+00,  0.0000e+00,\n",
       "        0.0000e+00,  0.0000e+00,  0.0000e+00,  0.0000e+00,  0.0000e+00,\n",
       "        0.0000e+00,  0.0000e+00,  0.0000e+00,  0.0000e+00,  0.0000e+00,\n",
       "        0.0000e+00,  0.0000e+00,  0.0000e+00,  0.0000e+00,  0.0000e+00,\n",
       "        0.0000e+00,  0.0000e+00,  0.0000e+00,  0.0000e+00,  0.0000e+00,\n",
       "        0.0000e+00,  0.0000e+00,  0.0000e+00,  0.0000e+00,  0.0000e+00,\n",
       "        0.0000e+00,  0.0000e+00,  0.0000e+00, -3.6449e-01, -3.4574e-01,\n",
       "        1.0700e+00,  1.2540e-01,  1.0621e-01, -1.7668e-02,  0.0000e+00,\n",
       "        0.0000e+00,  0.0000e+00,  0.0000e+00,  0.0000e+00,  0.0000e+00,\n",
       "        0.0000e+00,  0.0000e+00,  0.0000e+00,  0.0000e+00,  0.0000e+00,\n",
       "        0.0000e+00,  0.0000e+00,  0.0000e+00,  0.0000e+00,  0.0000e+00,\n",
       "        0.0000e+00,  0.0000e+00,  0.0000e+00,  0.0000e+00,  0.0000e+00,\n",
       "        0.0000e+00,  0.0000e+00,  0.0000e+00,  0.0000e+00,  0.0000e+00,\n",
       "        0.0000e+00,  0.0000e+00,  0.0000e+00,  0.0000e+00,  0.0000e+00,\n",
       "        0.0000e+00,  0.0000e+00,  0.0000e+00,  0.0000e+00,  0.0000e+00,\n",
       "        0.0000e+00,  0.0000e+00,  0.0000e+00,  0.0000e+00,  0.0000e+00,\n",
       "        0.0000e+00,  0.0000e+00,  0.0000e+00,  0.0000e+00,  0.0000e+00,\n",
       "        0.0000e+00,  0.0000e+00,  0.0000e+00,  0.0000e+00,  0.0000e+00,\n",
       "        0.0000e+00,  0.0000e+00,  0.0000e+00,  0.0000e+00,  0.0000e+00,\n",
       "        0.0000e+00,  0.0000e+00,  0.0000e+00,  0.0000e+00,  0.0000e+00,\n",
       "        0.0000e+00,  0.0000e+00])"
      ]
     },
     "execution_count": 3,
     "metadata": {},
     "output_type": "execute_result"
    }
   ],
   "source": [
    "import gym\n",
    "import myosuite \n",
    "import time\n",
    "\n",
    "#CenterReachOut-v0\n",
    "#myoChallengeRelocateP1-v0\n",
    "\n",
    "\n",
    "env = gym.make('CenterReachOut-v0')\n",
    "env.reset()\n"
   ]
  },
  {
   "cell_type": "code",
   "execution_count": 4,
   "metadata": {},
   "outputs": [
    {
     "name": "stdout",
     "output_type": "stream",
     "text": [
      "{'time': array([0.]), 'hand_qpos': array([-2.2856e-02,  1.1130e-02, -8.2680e-02,  1.0125e-01, -4.9400e-02,\n",
      "        1.6578e-01,  1.1868e-01, -1.9320e-01, -1.9648e-01,  3.8760e-02,\n",
      "        1.6806e-01,  1.7281e-01, -2.5407e-01, -1.0998e-01,  1.4748e+00,\n",
      "        1.2882e+00,  1.0647e-01, -2.7489e-01,  3.3200e-01,  4.1140e-01,\n",
      "       -1.7716e-01, -2.6182e-01,  1.8852e-01,  1.7017e-01,  4.4773e-01,\n",
      "        2.6707e-01,  2.8278e-01, -1.0472e-02,  1.6854e-02,  7.0198e-03,\n",
      "        9.1390e-02, -6.5450e-02,  2.4350e-01,  3.3776e-01,  2.3565e-01,\n",
      "       -1.0184e-01,  6.0707e-04,  3.1420e-02, -2.0000e-01,  0.0000e+00,\n",
      "       -2.0000e-02,  0.0000e+00,  0.0000e+00,  0.0000e+00]), 'hand_qvel': array([0., 0., 0., 0., 0., 0., 0., 0., 0., 0., 0., 0., 0., 0., 0., 0., 0.,\n",
      "       0., 0., 0., 0., 0., 0., 0., 0., 0., 0., 0., 0., 0., 0., 0., 0., 0.,\n",
      "       0., 0., 0., 0., 0., 0., 0., 0., 0., 0.]), 'act': array([0., 0., 0., 0., 0., 0., 0., 0., 0., 0., 0., 0., 0., 0., 0., 0., 0.,\n",
      "       0., 0., 0., 0., 0., 0., 0., 0., 0., 0., 0., 0., 0., 0., 0., 0., 0.,\n",
      "       0., 0., 0., 0., 0., 0., 0., 0., 0., 0., 0., 0., 0., 0., 0., 0., 0.,\n",
      "       0., 0., 0., 0., 0., 0., 0., 0., 0., 0., 0., 0.]), 'obj_pos': array([-0.3645, -0.3457,  1.07  ]), 'palm_pos': array([-0.2391, -0.2395,  1.0523]), 'reach_err': array([ 0.1254,  0.1062, -0.0177])}\n",
      "Observation dimension 157\n",
      "Observation values: [-2.9829e-02  1.3514e-02 -6.3989e-02  8.5149e-02 -4.1468e-02  1.4412e-01\n",
      "  1.0647e-01 -1.6016e-01 -1.6641e-01  3.5418e-02  1.7544e-01  1.5549e-01\n",
      " -2.3606e-01 -1.2404e-01  1.4692e+00  1.2692e+00  8.1377e-02 -2.6525e-01\n",
      "  3.6350e-01  3.4591e-01 -8.1173e-02 -2.2930e-01  2.0106e-01  1.8977e-01\n",
      "  4.5929e-01  2.5390e-01  3.0354e-01  1.7439e-02 -1.6857e-02 -4.5703e-03\n",
      "  1.2748e-01 -1.9111e-02  2.3782e-01  3.3504e-01  1.9809e-01 -8.2493e-02\n",
      " -1.6036e-02 -1.0417e-02 -2.0000e-01  0.0000e+00 -2.2158e-02  0.0000e+00\n",
      "  0.0000e+00  0.0000e+00 -6.5848e-03  2.1406e-03  2.4597e-02 -2.2688e-02\n",
      "  1.1733e-02 -3.3459e-02 -2.1805e-02  4.8965e-02  4.4715e-02 -6.6942e-03\n",
      "  9.9974e-03 -2.2338e-02  2.2179e-02 -1.6316e-02  3.9379e-03 -3.3824e-02\n",
      " -3.1432e-02  1.1827e-02  5.8059e-02 -1.0724e-01  1.3530e-01  5.3803e-02\n",
      "  2.4005e-02  2.1986e-02  2.0988e-02 -1.9313e-02  2.2619e-02  3.5002e-02\n",
      " -3.4145e-02 -1.2496e-02  5.4174e-02  5.6320e-02 -2.1836e-03 -9.4016e-04\n",
      " -6.8648e-02  2.2252e-02 -1.7196e-02 -5.8670e-02  0.0000e+00  0.0000e+00\n",
      " -3.9224e-03  0.0000e+00  0.0000e+00  0.0000e+00 -3.6449e-01 -3.4574e-01\n",
      "  1.0678e+00  1.2518e-01  1.0411e-01 -1.3275e-02  2.9033e-01  7.2698e-04\n",
      "  5.7633e-02  6.6934e-01  2.5804e-02  2.6359e-02  7.1186e-01  3.4254e-03\n",
      "  8.2868e-04  4.7791e-01  2.9044e-01  6.5406e-02  8.7296e-04  5.7347e-04\n",
      "  6.8684e-02  3.6874e-01  3.5273e-03  5.7657e-01  2.5898e-02  7.7915e-02\n",
      "  7.2295e-01  1.4081e-01  3.6511e-01  6.3621e-04  3.2108e-02  2.9475e-01\n",
      "  6.6000e-01  1.4672e-01  4.3790e-01  2.2897e-01  1.9480e-01  7.4610e-02\n",
      "  9.4332e-02  6.9269e-04  9.2615e-03  1.1111e-01  6.4947e-02  8.5511e-03\n",
      "  3.5858e-03  3.9450e-02  6.5031e-01  4.3366e-03  3.1649e-01  5.3841e-01\n",
      "  4.8418e-01  5.7660e-03  7.6619e-01  3.2547e-01  2.4757e-03  6.2368e-01\n",
      "  1.0140e-03  1.2203e-01  7.5992e-03  7.6398e-03  1.3047e-03  5.4343e-01\n",
      "  3.8842e-01  7.7052e-01  3.7857e-01  1.4659e-01  1.1616e-03  3.8483e-01\n",
      "  1.1592e-01]\n",
      "Reward value: -0.16335083070664533\n",
      "Is Done: False\n",
      "The overall info: dict_keys(['time', 'rwd_dense', 'rwd_sparse', 'solved', 'done', 'obs_dict', 'visual_dict', 'proprio_dict', 'rwd_dict', 'state'])\n",
      "Info contained contained the info['state']: [[ 0.0309 -0.0392  0.097 ]\n",
      " [ 0.0277 -0.045   0.0227]\n",
      " [ 0.7614  0.6727  0.8709]\n",
      " ...\n",
      " [ 0.028   0.      0.    ]\n",
      " [ 0.      0.028   0.    ]\n",
      " [ 0.      0.      0.028 ]]\n"
     ]
    }
   ],
   "source": [
    "# random value as an action\n",
    "action = env.action_space.sample()\n",
    "print(env.obs_dict)\n",
    "\n",
    "observation_state, reward, done, info = env.step(action)\n",
    "\n",
    "# myoElbowPose1D6MRandom-v0 is a pose-type task\n",
    "# see definition here https://github.com/facebookresearch/myosuite/blob/1d45e4d5603a70487355902450006d3bd7828d43/myosuite/envs/myo/pose_v0.py#L89\n",
    "\n",
    "print(f\"Observation dimension {len(observation_state)}\")\n",
    "# Observation is composed of: qpos [1], qvel [1], act [6], pose_err [1]\n",
    "print(f\"Observation values: {observation_state}\")\n",
    "\n",
    "# Information about the task reward\n",
    "print(f\"Reward value: {reward}\")\n",
    "\n",
    "# Flag to check if the task is done\n",
    "print(f\"Is Done: {done}\")\n",
    "\n",
    "# All the info relative to the environment i.e. reward (dense/sparse), task is solved, ...\n",
    "print(f\"The overall info: {info.keys()}\")\n",
    "# Specifically, the information relative to the state\n",
    "print(f\"Info contained contained the info['state']: {info['state']['site_pos']}\")\n"
   ]
  },
  {
   "cell_type": "markdown",
   "metadata": {},
   "source": [
    "### Change Tasks targets"
   ]
  },
  {
   "cell_type": "code",
   "execution_count": 5,
   "metadata": {},
   "outputs": [
    {
     "ename": "AttributeError",
     "evalue": "'ReachEnvV0' object has no attribute 'target_reach_range'",
     "output_type": "error",
     "traceback": [
      "\u001b[1;31m---------------------------------------------------------------------------\u001b[0m",
      "\u001b[1;31mAttributeError\u001b[0m                            Traceback (most recent call last)",
      "Cell \u001b[1;32mIn[5], line 6\u001b[0m\n\u001b[0;32m      4\u001b[0m \u001b[38;5;28;01mfor\u001b[39;00m ep \u001b[38;5;129;01min\u001b[39;00m \u001b[38;5;28mrange\u001b[39m(\u001b[38;5;241m10\u001b[39m):\n\u001b[0;32m      5\u001b[0m   env_fix\u001b[38;5;241m.\u001b[39mreset()\n\u001b[1;32m----> 6\u001b[0m   \u001b[38;5;28mprint\u001b[39m(\u001b[38;5;124mf\u001b[39m\u001b[38;5;124m\"\u001b[39m\u001b[38;5;124mEpisode \u001b[39m\u001b[38;5;132;01m{\u001b[39;00mep\u001b[38;5;132;01m}\u001b[39;00m\u001b[38;5;124m, target: \u001b[39m\u001b[38;5;132;01m{\u001b[39;00menv_fix\u001b[38;5;241m.\u001b[39menv\u001b[38;5;241m.\u001b[39mtarget_reach_range\u001b[38;5;132;01m}\u001b[39;00m\u001b[38;5;124m\"\u001b[39m)\n\u001b[0;32m      8\u001b[0m \u001b[38;5;28;01mfor\u001b[39;00m ep \u001b[38;5;129;01min\u001b[39;00m \u001b[38;5;28mrange\u001b[39m(\u001b[38;5;241m10\u001b[39m):\n\u001b[0;32m      9\u001b[0m   env_rand\u001b[38;5;241m.\u001b[39mreset()\n",
      "\u001b[1;31mAttributeError\u001b[0m: 'ReachEnvV0' object has no attribute 'target_reach_range'"
     ]
    }
   ],
   "source": [
    "env_fix = gym.make('CenterReachOut-v0')\n",
    "env_rand = gym.make('CenterReachOut-v0')\n",
    "\n",
    "for ep in range(10):\n",
    "  env_fix.reset()\n",
    "  print(f\"Episode {ep}, target: {env_fix.env.target_reach_range}\")\n",
    "\n",
    "for ep in range(10):\n",
    "  env_rand.reset()\n",
    "  print(f\"Episode {ep}, target: {env_rand.env.target_reach_range}\")\n"
   ]
  },
  {
   "cell_type": "markdown",
   "metadata": {},
   "source": [
    "### POSEV0\n"
   ]
  },
  {
   "cell_type": "code",
   "execution_count": 6,
   "metadata": {},
   "outputs": [
    {
     "name": "stdout",
     "output_type": "stream",
     "text": [
      "Observation dimension 157\n",
      "Observation values: [-3.0841e-02  1.3591e-02 -4.1116e-02  6.1064e-02 -2.8753e-02  1.0578e-01\n",
      "  7.6219e-02 -1.0589e-01 -1.1786e-01  2.6207e-02  1.8451e-01  1.3027e-01\n",
      " -2.1759e-01 -1.9178e-01  1.5064e+00  1.1880e+00  2.2110e-01 -2.0768e-01\n",
      "  3.1850e-01  4.3380e-01 -1.6433e-01 -2.9239e-01  2.3776e-01  2.4255e-01\n",
      "  4.3751e-01  2.4048e-01  4.2341e-01 -4.1357e-02 -2.6193e-03  5.6670e-03\n",
      "  3.5305e-02 -3.8337e-02  2.6904e-01  1.9858e-01  3.3522e-01 -1.8870e-01\n",
      "  2.9391e-02  8.9042e-03 -2.0000e-01  0.0000e+00 -2.8236e-02  0.0000e+00\n",
      "  0.0000e+00  0.0000e+00  1.8116e-03 -1.1031e-03  1.9836e-02 -2.2333e-02\n",
      "  1.3151e-02 -3.8921e-02 -3.1871e-02  5.2028e-02  4.7467e-02 -1.0983e-02\n",
      "  8.3607e-03 -1.9180e-02  1.4139e-02 -4.1408e-02  4.3340e-02 -8.8887e-02\n",
      "  6.8731e-02  3.2446e-02 -8.1045e-03  1.0195e-02  6.5404e-03 -1.2756e-02\n",
      "  7.0224e-02  4.7161e-02  2.1692e-02 -1.3764e-02  9.3381e-02  2.7382e-02\n",
      " -8.7033e-03  1.3611e-03  3.5902e-02 -2.6552e-02  1.0733e-01 -4.2925e-02\n",
      "  4.8952e-02 -4.4583e-02  1.2995e-02 -7.6037e-03  0.0000e+00  0.0000e+00\n",
      " -7.8420e-03  0.0000e+00  0.0000e+00  0.0000e+00 -5.0000e-02 -2.0000e-01\n",
      "  1.0618e+00 -1.8763e-01 -4.2600e-02  1.3126e-02  7.5329e-02  3.9016e-01\n",
      "  5.7301e-01  2.8279e-01  3.4419e-01  7.3614e-01  4.9111e-01  2.0287e-01\n",
      "  1.0613e-01  3.8403e-02  2.0406e-01  1.3978e-01  4.8107e-01  4.9409e-02\n",
      "  1.8753e-01  4.4022e-02  7.1708e-01  5.2636e-02  5.3793e-03  5.1125e-01\n",
      "  2.7068e-01  6.0099e-01  3.4533e-01  2.9909e-01  8.3365e-01  7.1945e-01\n",
      "  8.3765e-02  6.4259e-01  2.2858e-01  6.8145e-01  1.8860e-01  1.9704e-03\n",
      "  3.6640e-01  7.0104e-01  1.2540e-02  3.3232e-01  1.4782e-01  7.3592e-01\n",
      "  2.7774e-02  4.9116e-02  7.4201e-02  3.9332e-01  6.5040e-02  7.0430e-02\n",
      "  5.6466e-02  2.1671e-01  1.4181e-02  3.3333e-01  4.0185e-02  2.8360e-01\n",
      "  1.4116e-02  7.4661e-01  1.3367e-01  2.9204e-02  1.5295e-02  7.8356e-01\n",
      "  3.7944e-01  1.3747e-02  3.7682e-01  7.2675e-01  3.0055e-01  4.2401e-02\n",
      "  1.4863e-01]\n",
      "Reward value: -46.192852468342295\n",
      "Is Done: False\n",
      "The overall info: dict_keys(['time', 'rwd_dense', 'rwd_sparse', 'solved', 'done', 'obs_dict', 'visual_dict', 'proprio_dict', 'rwd_dict', 'state'])\n",
      "Info contained contained the info['state']: [[ 0.0309 -0.0392  0.097 ]\n",
      " [ 0.0277 -0.045   0.0227]\n",
      " [ 0.7614  0.6727  0.8709]\n",
      " ...\n",
      " [ 0.028   0.      0.    ]\n",
      " [ 0.      0.028   0.    ]\n",
      " [ 0.      0.      0.028 ]]\n"
     ]
    }
   ],
   "source": [
    "# random value as an action\n",
    "action = env.action_space.sample()\n",
    "\n",
    "observation_state, reward, done, info = env.step(action)\n",
    "\n",
    "# myoElbowPose1D6MRandom-v0 is a pose-type task\n",
    "# see definition here https://github.com/facebookresearch/myosuite/blob/1d45e4d5603a70487355902450006d3bd7828d43/myosuite/envs/myo/pose_v0.py#L89\n",
    "\n",
    "print(f\"Observation dimension {len(observation_state)}\")\n",
    "# Observation is composed of: qpos [1], qvel [1], act [6], pose_err [1]\n",
    "print(f\"Observation values: {observation_state}\")\n",
    "\n",
    "# Information about the task reward\n",
    "print(f\"Reward value: {reward}\")\n",
    "\n",
    "# Flag to check if the task is done\n",
    "print(f\"Is Done: {done}\")\n",
    "\n",
    "# All the info relative to the environment i.e. reward (dense/sparse), task is solved, ...\n",
    "print(f\"The overall info: {info.keys()}\")\n",
    "# Specifically, the information relative to the state\n",
    "print(f\"Info contained contained the info['state']: {info['state']['site_pos']}\")\n"
   ]
  },
  {
   "cell_type": "code",
   "execution_count": 7,
   "metadata": {},
   "outputs": [
    {
     "ename": "UnregisteredEnv",
     "evalue": "No registered env with id: myoArmPoseFixed-v0",
     "output_type": "error",
     "traceback": [
      "\u001b[1;31m---------------------------------------------------------------------------\u001b[0m",
      "\u001b[1;31mKeyError\u001b[0m                                  Traceback (most recent call last)",
      "File \u001b[1;32mc:\\Users\\Elyas\\anaconda3\\envs\\myosuit\\lib\\site-packages\\gym\\envs\\registration.py:132\u001b[0m, in \u001b[0;36mEnvRegistry.spec\u001b[1;34m(self, path)\u001b[0m\n\u001b[0;32m    131\u001b[0m \u001b[38;5;28;01mtry\u001b[39;00m:\n\u001b[1;32m--> 132\u001b[0m     \u001b[38;5;28;01mreturn\u001b[39;00m \u001b[38;5;28;43mself\u001b[39;49m\u001b[38;5;241;43m.\u001b[39;49m\u001b[43menv_specs\u001b[49m\u001b[43m[\u001b[49m\u001b[38;5;28;43mid\u001b[39;49m\u001b[43m]\u001b[49m\n\u001b[0;32m    133\u001b[0m \u001b[38;5;28;01mexcept\u001b[39;00m \u001b[38;5;167;01mKeyError\u001b[39;00m:\n\u001b[0;32m    134\u001b[0m     \u001b[38;5;66;03m# Parse the env name and check to see if it matches the non-version\u001b[39;00m\n\u001b[0;32m    135\u001b[0m     \u001b[38;5;66;03m# part of a valid env (could also check the exact number here)\u001b[39;00m\n",
      "\u001b[1;31mKeyError\u001b[0m: 'myoArmPoseFixed-v0'",
      "\nDuring handling of the above exception, another exception occurred:\n",
      "\u001b[1;31mUnregisteredEnv\u001b[0m                           Traceback (most recent call last)",
      "Cell \u001b[1;32mIn[7], line 2\u001b[0m\n\u001b[0;32m      1\u001b[0m \u001b[38;5;66;03m# Only for Elbow, test different posture\u001b[39;00m\n\u001b[1;32m----> 2\u001b[0m env \u001b[38;5;241m=\u001b[39m \u001b[43mgym\u001b[49m\u001b[38;5;241;43m.\u001b[39;49m\u001b[43mmake\u001b[49m\u001b[43m(\u001b[49m\u001b[38;5;124;43m'\u001b[39;49m\u001b[38;5;124;43mmyoArmPoseFixed-v0\u001b[39;49m\u001b[38;5;124;43m'\u001b[39;49m\u001b[43m)\u001b[49m\n\u001b[0;32m      3\u001b[0m \u001b[38;5;66;03m# Sequence of test angles\u001b[39;00m\n\u001b[0;32m      4\u001b[0m AngleSequence \u001b[38;5;241m=\u001b[39m [\u001b[38;5;241m60\u001b[39m, \u001b[38;5;241m0\u001b[39m, \u001b[38;5;241m80\u001b[39m, \u001b[38;5;241m30\u001b[39m]\n",
      "File \u001b[1;32mc:\\Users\\Elyas\\anaconda3\\envs\\myosuit\\lib\\site-packages\\gym\\envs\\registration.py:156\u001b[0m, in \u001b[0;36mmake\u001b[1;34m(id, **kwargs)\u001b[0m\n\u001b[0;32m    155\u001b[0m \u001b[38;5;28;01mdef\u001b[39;00m \u001b[38;5;21mmake\u001b[39m(\u001b[38;5;28mid\u001b[39m, \u001b[38;5;241m*\u001b[39m\u001b[38;5;241m*\u001b[39mkwargs):\n\u001b[1;32m--> 156\u001b[0m     \u001b[38;5;28;01mreturn\u001b[39;00m \u001b[43mregistry\u001b[49m\u001b[38;5;241;43m.\u001b[39;49m\u001b[43mmake\u001b[49m\u001b[43m(\u001b[49m\u001b[38;5;28;43mid\u001b[39;49m\u001b[43m,\u001b[49m\u001b[43m \u001b[49m\u001b[38;5;241;43m*\u001b[39;49m\u001b[38;5;241;43m*\u001b[39;49m\u001b[43mkwargs\u001b[49m\u001b[43m)\u001b[49m\n",
      "File \u001b[1;32mc:\\Users\\Elyas\\anaconda3\\envs\\myosuit\\lib\\site-packages\\gym\\envs\\registration.py:100\u001b[0m, in \u001b[0;36mEnvRegistry.make\u001b[1;34m(self, path, **kwargs)\u001b[0m\n\u001b[0;32m     98\u001b[0m \u001b[38;5;28;01melse\u001b[39;00m:\n\u001b[0;32m     99\u001b[0m     logger\u001b[38;5;241m.\u001b[39minfo(\u001b[38;5;124m'\u001b[39m\u001b[38;5;124mMaking new env: \u001b[39m\u001b[38;5;132;01m%s\u001b[39;00m\u001b[38;5;124m'\u001b[39m, path)\n\u001b[1;32m--> 100\u001b[0m spec \u001b[38;5;241m=\u001b[39m \u001b[38;5;28;43mself\u001b[39;49m\u001b[38;5;241;43m.\u001b[39;49m\u001b[43mspec\u001b[49m\u001b[43m(\u001b[49m\u001b[43mpath\u001b[49m\u001b[43m)\u001b[49m\n\u001b[0;32m    101\u001b[0m env \u001b[38;5;241m=\u001b[39m spec\u001b[38;5;241m.\u001b[39mmake(\u001b[38;5;241m*\u001b[39m\u001b[38;5;241m*\u001b[39mkwargs)\n\u001b[0;32m    102\u001b[0m \u001b[38;5;66;03m# We used to have people override _reset/_step rather than\u001b[39;00m\n\u001b[0;32m    103\u001b[0m \u001b[38;5;66;03m# reset/step. Set _gym_disable_underscore_compat = True on\u001b[39;00m\n\u001b[0;32m    104\u001b[0m \u001b[38;5;66;03m# your environment if you use these methods and don't want\u001b[39;00m\n\u001b[0;32m    105\u001b[0m \u001b[38;5;66;03m# compatibility code to be invoked.\u001b[39;00m\n",
      "File \u001b[1;32mc:\\Users\\Elyas\\anaconda3\\envs\\myosuit\\lib\\site-packages\\gym\\envs\\registration.py:142\u001b[0m, in \u001b[0;36mEnvRegistry.spec\u001b[1;34m(self, path)\u001b[0m\n\u001b[0;32m    140\u001b[0m     \u001b[38;5;28;01mraise\u001b[39;00m error\u001b[38;5;241m.\u001b[39mDeprecatedEnv(\u001b[38;5;124m'\u001b[39m\u001b[38;5;124mEnv \u001b[39m\u001b[38;5;132;01m{}\u001b[39;00m\u001b[38;5;124m not found (valid versions include \u001b[39m\u001b[38;5;132;01m{}\u001b[39;00m\u001b[38;5;124m)\u001b[39m\u001b[38;5;124m'\u001b[39m\u001b[38;5;241m.\u001b[39mformat(\u001b[38;5;28mid\u001b[39m, matching_envs))\n\u001b[0;32m    141\u001b[0m \u001b[38;5;28;01melse\u001b[39;00m:\n\u001b[1;32m--> 142\u001b[0m     \u001b[38;5;28;01mraise\u001b[39;00m error\u001b[38;5;241m.\u001b[39mUnregisteredEnv(\u001b[38;5;124m'\u001b[39m\u001b[38;5;124mNo registered env with id: \u001b[39m\u001b[38;5;132;01m{}\u001b[39;00m\u001b[38;5;124m'\u001b[39m\u001b[38;5;241m.\u001b[39mformat(\u001b[38;5;28mid\u001b[39m))\n",
      "\u001b[1;31mUnregisteredEnv\u001b[0m: No registered env with id: myoArmPoseFixed-v0"
     ]
    }
   ],
   "source": [
    "# Only for Elbow, test different posture\n",
    "env = gym.make('myoArmPoseFixed-v0')\n",
    "# Sequence of test angles\n",
    "AngleSequence = [60, 0, 80, 30]\n",
    "# Flag to enable a sequence of different fixed targets\n",
    "env.env.target_type = 'fixed'\n",
    "\n",
    "env.reset()\n",
    "frames = []\n",
    "for ep in range(len(AngleSequence)):\n",
    "    print(\"Ep {} of {} testing angle {}\".format(ep, len(AngleSequence), AngleSequence[ep]))\n",
    "\n",
    "    # Set the new target value\n",
    "    env.env.target_jnt_value = [np.deg2rad(AngleSequence[int(ep)])]\n",
    "    # Update the target value\n",
    "    env.env.update_target()\n",
    "\n",
    "    for _ in range(20):\n",
    "        frames.append(env.sim.renderer.render_offscreen(\n",
    "                        width=400,\n",
    "                        height=400,\n",
    "                        camera_id=0))\n",
    "        o = env.get_obs()\n",
    "        a = pi.get_action(o)[0]\n",
    "        next_o, r, done, _ = env.step(a) # take an action based on the current observation\n",
    "env.close()\n",
    "\n",
    "os.makedirs('videos', exist_ok=True)\n",
    "# make a local copy\n",
    "skvideo.io.vwrite('videos/arm.mp4', np.asarray(frames),outputdict={\"-pix_fmt\": \"yuv420p\"})\n",
    "show_video('videos/arm.mp4')"
   ]
  },
  {
   "cell_type": "markdown",
   "metadata": {},
   "source": [
    "### Moves Arm Model by changing actuator intensity \n",
    "//==============================================="
   ]
  },
  {
   "cell_type": "code",
   "execution_count": 9,
   "metadata": {},
   "outputs": [
    {
     "name": "stdout",
     "output_type": "stream",
     "text": [
      "Muscles:\n",
      "[0, 'DELT1']\n",
      "[1, 'DELT2']\n",
      "[2, 'DELT3']\n",
      "[3, 'SUPSP']\n",
      "[4, 'INFSP']\n",
      "[5, 'SUBSC']\n",
      "[6, 'TMIN']\n",
      "[7, 'TMAJ']\n",
      "[8, 'PECM1']\n",
      "[9, 'PECM2']\n",
      "[10, 'PECM3']\n",
      "[11, 'LAT1']\n",
      "[12, 'LAT2']\n",
      "[13, 'LAT3']\n",
      "[14, 'CORB']\n",
      "[15, 'TRIlong']\n",
      "[16, 'TRIlat']\n",
      "[17, 'TRImed']\n",
      "[18, 'ANC']\n",
      "[19, 'SUP']\n",
      "[20, 'BIClong']\n",
      "[21, 'BICshort']\n",
      "[22, 'BRA']\n",
      "[23, 'BRD']\n",
      "[24, 'ECRL']\n",
      "[25, 'ECRB']\n",
      "[26, 'ECU']\n",
      "[27, 'FCR']\n",
      "[28, 'FCU']\n",
      "[29, 'PL']\n",
      "[30, 'PT']\n",
      "[31, 'PQ']\n",
      "[32, 'FDS5']\n",
      "[33, 'FDS4']\n",
      "[34, 'FDS3']\n",
      "[35, 'FDS2']\n",
      "[36, 'FDP5']\n",
      "[37, 'FDP4']\n",
      "[38, 'FDP3']\n",
      "[39, 'FDP2']\n",
      "[40, 'EDC5']\n",
      "[41, 'EDC4']\n",
      "[42, 'EDC3']\n",
      "[43, 'EDC2']\n",
      "[44, 'EDM']\n",
      "[45, 'EIP']\n",
      "[46, 'EPL']\n",
      "[47, 'EPB']\n",
      "[48, 'FPL']\n",
      "[49, 'APL']\n",
      "[50, 'OP']\n",
      "[51, 'RI2']\n",
      "[52, 'LU_RB2']\n",
      "[53, 'UI_UB2']\n",
      "[54, 'RI3']\n",
      "[55, 'LU_RB3']\n",
      "[56, 'UI_UB3']\n",
      "[57, 'RI4']\n",
      "[58, 'LU_RB4']\n",
      "[59, 'UI_UB4']\n",
      "[60, 'RI5']\n",
      "[61, 'LU_RB5']\n",
      "[62, 'UI_UB5']\n",
      "\n",
      "Joints:\n",
      "[0, 'sternoclavicular_r2']\n",
      "[1, 'sternoclavicular_r3']\n",
      "[2, 'unrotscap_r3']\n",
      "[3, 'unrotscap_r2']\n",
      "[4, 'acromioclavicular_r2']\n",
      "[5, 'acromioclavicular_r3']\n",
      "[6, 'acromioclavicular_r1']\n",
      "[7, 'unrothum_r1']\n",
      "[8, 'unrothum_r3']\n",
      "[9, 'unrothum_r2']\n",
      "[10, 'elv_angle']\n",
      "[11, 'shoulder_elv']\n",
      "[12, 'shoulder1_r2']\n",
      "[13, 'shoulder_rot']\n",
      "[14, 'elbow_flexion']\n",
      "[15, 'pro_sup']\n",
      "[16, 'deviation']\n",
      "[17, 'flexion']\n",
      "[18, 'cmc_abduction']\n",
      "[19, 'cmc_flexion']\n",
      "[20, 'mp_flexion']\n",
      "[21, 'ip_flexion']\n",
      "[22, 'mcp2_flexion']\n",
      "[23, 'mcp2_abduction']\n",
      "[24, 'pm2_flexion']\n",
      "[25, 'md2_flexion']\n",
      "[26, 'mcp3_flexion']\n",
      "[27, 'mcp3_abduction']\n",
      "[28, 'pm3_flexion']\n",
      "[29, 'md3_flexion']\n",
      "[30, 'mcp4_flexion']\n",
      "[31, 'mcp4_abduction']\n",
      "[32, 'pm4_flexion']\n",
      "[33, 'md4_flexion']\n",
      "[34, 'mcp5_flexion']\n",
      "[35, 'mcp5_abduction']\n",
      "[36, 'pm5_flexion']\n",
      "[37, 'md5_flexion']\n",
      "[38, 'OBJTx']\n",
      "[39, 'OBJTy']\n",
      "[40, 'OBJTz']\n",
      "[41, 'OBJRx']\n",
      "[42, 'OBJRy']\n",
      "[43, 'OBJRz']\n"
     ]
    }
   ],
   "source": [
    "\n",
    "env = gym.make('CenterReachOut-v0', normalize_act = False) #Change the task depending on what model/environment you want to use\n",
    "\n",
    "env.reset()\n",
    "\n",
    "env.env.init_qpos[:] = np.zeros(len(env.env.init_qpos),)\n",
    "mjcModel = env.sim.model\n",
    "\n",
    "print(\"Muscles:\")\n",
    "for i in range(mjcModel.na):\n",
    "     a = print([i,mjcModel.actuator(i).name])\n",
    "\n",
    "print(\"\\nJoints:\")\n",
    "for i in range(mjcModel.njnt):\n",
    "     b = print([i,mjcModel.joint(i).name])"
   ]
  },
  {
   "cell_type": "markdown",
   "metadata": {},
   "source": [
    "<h2> Changing actuator activation levels for movement </h2>"
   ]
  },
  {
   "cell_type": "code",
   "execution_count": 10,
   "metadata": {},
   "outputs": [
    {
     "name": "stdout",
     "output_type": "stream",
     "text": [
      "[11]\n",
      "500\n",
      "iteration: 0\n",
      "iteration: 1\n",
      "iteration: 2\n",
      "iteration: 3\n",
      "iteration: 4\n"
     ]
    },
    {
     "data": {
      "text/html": [],
      "text/plain": [
       "<IPython.core.display.HTML object>"
      ]
     },
     "execution_count": 10,
     "metadata": {},
     "output_type": "execute_result"
    }
   ],
   "source": [
    "\n",
    "musc_fe = [mjcModel.actuator('LAT1').id] #Appends id values of actuators to list (Change depending on desired movement)\n",
    "print(musc_fe)\n",
    "L_range = round(1/mjcModel.opt.timestep) \n",
    "print(L_range)\n",
    "skip_frame = 50\n",
    "\n",
    "\n",
    "frames_sim = []\n",
    "for iter_n in range(5):\n",
    "    print(\"iteration: \"+str(iter_n))\n",
    "    res_sim = []\n",
    "    act_val = 0\n",
    "    ctrl = np.zeros(mjcModel.na,)\n",
    "    for rp in range(10): \n",
    "        ctrl[musc_fe[0]] = -0.6\n",
    "        increment = 1/L_range\n",
    "        for s in range(L_range):\n",
    "            if not(s%skip_frame):\n",
    "                frame = env.sim.renderer.render_offscreen(\n",
    "                                width=400,\n",
    "                                height=400,\n",
    "                                camera_id=0) #Arm Model context: id=0 (side cam) id = 1 (far front) , id  = 2 and 3 (close view front/back)\n",
    "                frames_sim.append(frame)\n",
    "            \n",
    "            ctrl = np.zeros(mjcModel.na,)\n",
    "            act_val =+ increment\n",
    "            ctrl[musc_fe[0]] = act_val+increment                  \n",
    "            env.step(ctrl)\n",
    "\n",
    "os.makedirs('videos', exist_ok=True)\n",
    "video_path = 'videos/test_policy.mp4'\n",
    "\n",
    "\n",
    "imageio.mimsave(video_path, frames_sim, fps=30)\n",
    "\n",
    "show_video(video_path)\n"
   ]
  }
 ],
 "metadata": {
  "kernelspec": {
   "display_name": "Python 3",
   "language": "python",
   "name": "python3"
  },
  "language_info": {
   "codemirror_mode": {
    "name": "ipython",
    "version": 3
   },
   "file_extension": ".py",
   "mimetype": "text/x-python",
   "name": "python",
   "nbconvert_exporter": "python",
   "pygments_lexer": "ipython3",
   "version": "3.8.18"
  }
 },
 "nbformat": 4,
 "nbformat_minor": 2
}
